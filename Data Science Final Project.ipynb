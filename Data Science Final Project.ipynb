{
 "cells": [
  {
   "cell_type": "markdown",
   "id": "6696f470-faa2-45e0-87ec-5aa22d5d8d98",
   "metadata": {},
   "source": [
    "# Data Science Final Project"
   ]
  },
  {
   "cell_type": "markdown",
   "id": "3000e41c-8189-4df4-a50f-469611b1fb39",
   "metadata": {},
   "source": [
    "## Introduction\r\n",
    "This notebook provides an overview of essential data science concepts, languages, libraries, tools, and basic arithmetic examples\r\n"
   ]
  },
  {
   "cell_type": "markdown",
   "id": "59ae8817-fd09-409d-ada4-462cd0566184",
   "metadata": {},
   "source": [
    "### Data Science Languages\r\n",
    "- Python  \r\n",
    "- R  \r\n",
    "- SQL  \r\n",
    "- Julia  \r\n",
    "- cala\r\n"
   ]
  },
  {
   "cell_type": "markdown",
   "id": "ef59e7e3-e1e4-4d37-bda9-62b56ed81b0c",
   "metadata": {},
   "source": [
    "### Data Science Libraries\r\n",
    "- Pandas  \r\n",
    "- NumPy  \r\n",
    "- Matplotlib  \r\n",
    "- Scikit-learn  \r\n",
    "- TensorFlow  \r\n",
    "- gplot2\r\n"
   ]
  },
  {
   "cell_type": "markdown",
   "id": "37eb1c15-bae9-4807-9a77-0b780e495fb8",
   "metadata": {},
   "source": [
    "| Tool             | Description                        | Usage Area          |\r\n",
    "| ---------------- | ---------------------------------- | ------------------- |\r\n",
    "| Jupyter Notebook | Interactive coding environment     | Data analysis & ML  |\r\n",
    "| GitHub           | Version control and sharing        | Collaboration       |\r\n",
    "| Anaconda         | Package management and environment | Environment setup   |\r\n",
    "| Tableau          | Data visualization                 | Reporting & BI      |\r\n",
    "| VS Code          | Code editor                        | General programming |\r\n"
   ]
  },
  {
   "cell_type": "markdown",
   "id": "31aa67dc-43ec-491b-a82e-a0d5f63cc8aa",
   "metadata": {},
   "source": [
    "### Arithmetic Expression Examples\r\n",
    "Below are examples of basic arithmetic operations using Python\r\n"
   ]
  },
  {
   "cell_type": "code",
   "execution_count": 16,
   "id": "f09389fb-a4ae-4190-adc4-5ec6d0d410c2",
   "metadata": {},
   "outputs": [
    {
     "data": {
      "text/plain": [
       "70"
      ]
     },
     "execution_count": 16,
     "metadata": {},
     "output_type": "execute_result"
    }
   ],
   "source": [
    "# Multiply 5 by 10 and add 20\n",
    "result = 5 * 10 + 20\n",
    "result"
   ]
  },
  {
   "cell_type": "code",
   "execution_count": 18,
   "id": "a40fa766-262d-43a2-993b-7fd29cebf8f1",
   "metadata": {},
   "outputs": [
    {
     "data": {
      "text/plain": [
       "1.5"
      ]
     },
     "execution_count": 18,
     "metadata": {},
     "output_type": "execute_result"
    }
   ],
   "source": [
    "# Convert minutes to hours\n",
    "minutes = 90\n",
    "hours = minutes / 60\n",
    "hours"
   ]
  },
  {
   "cell_type": "markdown",
   "id": "d674f668-6bcc-4060-9453-32a31f8867ed",
   "metadata": {},
   "source": [
    "### Objectives\r\n",
    "- Understand basic data science tools and languages  \r\n",
    "- Learn to create and share Jupyter notebooks  \r\n",
    "- Practice arithmetic operations in Python  \r\n",
    "- Share your project publicly on GitHb  \r\n"
   ]
  },
  {
   "cell_type": "markdown",
   "id": "f4c16381-9f0c-4ae0-aaf3-2abe4042a88c",
   "metadata": {},
   "source": [
    "### Author\n",
    "Aditya Gajendra Nanaware"
   ]
  },
  {
   "cell_type": "code",
   "execution_count": null,
   "id": "dc1d67e5-d72e-4633-890a-07ec4c2487ed",
   "metadata": {},
   "outputs": [],
   "source": []
  }
 ],
 "metadata": {
  "kernelspec": {
   "display_name": "Python 3 (ipykernel)",
   "language": "python",
   "name": "python3"
  },
  "language_info": {
   "codemirror_mode": {
    "name": "ipython",
    "version": 3
   },
   "file_extension": ".py",
   "mimetype": "text/x-python",
   "name": "python",
   "nbconvert_exporter": "python",
   "pygments_lexer": "ipython3",
   "version": "3.12.4"
  }
 },
 "nbformat": 4,
 "nbformat_minor": 5
}
